{
 "cells": [
  {
   "cell_type": "code",
   "execution_count": 1,
   "metadata": {},
   "outputs": [
    {
     "name": "stdout",
     "output_type": "stream",
     "text": [
      "What is your name sahasrabdi\n",
      "My name is  sahasrabdi\n"
     ]
    }
   ],
   "source": [
    "#input statement\n",
    "name=input(\"What is your name \")\n",
    "print(\"My name is \",name)"
   ]
  },
  {
   "cell_type": "code",
   "execution_count": 2,
   "metadata": {},
   "outputs": [],
   "source": [
    "#The os module is a part of the standard library, or stdlib, within Python 3.\n",
    "#------------------------------------------------------------------------------\n",
    "#pandas It presents a diverse range of utilities, ranging from parsing multiple file\n",
    "#formats to converting an entire data table into a NumPy matrix array.(Python based analysis toolkit)"
   ]
  },
  {
   "cell_type": "code",
   "execution_count": 3,
   "metadata": {},
   "outputs": [],
   "source": [
    "import pandas as pd\n",
    "#method 1\n",
    "#stats=pd.read_csv('Entire path to the file with the data set')\n",
    "#method 2 :change the working directory\n",
    "import os\n"
   ]
  },
  {
   "cell_type": "code",
   "execution_count": 18,
   "metadata": {},
   "outputs": [
    {
     "name": "stdout",
     "output_type": "stream",
     "text": [
      "C:\\Users\\SAHASRABDI\\Desktop\n"
     ]
    }
   ],
   "source": [
    "print(os.getcwd())"
   ]
  },
  {
   "cell_type": "code",
   "execution_count": 17,
   "metadata": {},
   "outputs": [],
   "source": [
    "os.chdir('C:\\\\Users\\\\SAHASRABDI\\\\Desktop')\n",
    "#now jupyter will automatically look into the desktop"
   ]
  },
  {
   "cell_type": "code",
   "execution_count": 6,
   "metadata": {},
   "outputs": [],
   "source": [
    "#now we can just write the name of the file and not the entire path\n",
    "stats=pd.read_csv('population.csv')\n",
    "#data has to be in the desktop according to the changed directory\n",
    "#.gitignore the data set cause of the size which may cause problem in github"
   ]
  },
  {
   "cell_type": "code",
   "execution_count": 7,
   "metadata": {},
   "outputs": [
    {
     "data": {
      "text/html": [
       "<div>\n",
       "<style scoped>\n",
       "    .dataframe tbody tr th:only-of-type {\n",
       "        vertical-align: middle;\n",
       "    }\n",
       "\n",
       "    .dataframe tbody tr th {\n",
       "        vertical-align: top;\n",
       "    }\n",
       "\n",
       "    .dataframe thead th {\n",
       "        text-align: right;\n",
       "    }\n",
       "</style>\n",
       "<table border=\"1\" class=\"dataframe\">\n",
       "  <thead>\n",
       "    <tr style=\"text-align: right;\">\n",
       "      <th></th>\n",
       "      <th>Country or Area</th>\n",
       "      <th>Internet Users</th>\n",
       "      <th>Population</th>\n",
       "      <th>Rank</th>\n",
       "      <th>Percentage</th>\n",
       "      <th>Rank.1</th>\n",
       "    </tr>\n",
       "  </thead>\n",
       "  <tbody>\n",
       "    <tr>\n",
       "      <th>0</th>\n",
       "      <td>China</td>\n",
       "      <td>76,53,67,947</td>\n",
       "      <td>1,40,95,17,397</td>\n",
       "      <td>1</td>\n",
       "      <td>54.30%</td>\n",
       "      <td>116</td>\n",
       "    </tr>\n",
       "    <tr>\n",
       "      <th>1</th>\n",
       "      <td>India</td>\n",
       "      <td>46,13,47,554</td>\n",
       "      <td>1,33,91,80,127</td>\n",
       "      <td>2</td>\n",
       "      <td>34.45%</td>\n",
       "      <td>145</td>\n",
       "    </tr>\n",
       "    <tr>\n",
       "      <th>2</th>\n",
       "      <td>United States</td>\n",
       "      <td>24,40,90,854</td>\n",
       "      <td>32,44,59,463</td>\n",
       "      <td>3</td>\n",
       "      <td>75.23%</td>\n",
       "      <td>68</td>\n",
       "    </tr>\n",
       "    <tr>\n",
       "      <th>3</th>\n",
       "      <td>Brazil</td>\n",
       "      <td>14,12,06,801</td>\n",
       "      <td>20,92,88,278</td>\n",
       "      <td>4</td>\n",
       "      <td>67.47%</td>\n",
       "      <td>83</td>\n",
       "    </tr>\n",
       "    <tr>\n",
       "      <th>4</th>\n",
       "      <td>Japan</td>\n",
       "      <td>11,58,45,120</td>\n",
       "      <td>12,74,84,450</td>\n",
       "      <td>5</td>\n",
       "      <td>90.87%</td>\n",
       "      <td>23</td>\n",
       "    </tr>\n",
       "    <tr>\n",
       "      <th>...</th>\n",
       "      <td>...</td>\n",
       "      <td>...</td>\n",
       "      <td>...</td>\n",
       "      <td>...</td>\n",
       "      <td>...</td>\n",
       "      <td>...</td>\n",
       "    </tr>\n",
       "    <tr>\n",
       "      <th>210</th>\n",
       "      <td>Falkland Islands</td>\n",
       "      <td>2,881</td>\n",
       "      <td>2,910</td>\n",
       "      <td>211</td>\n",
       "      <td>99.02% (2016)</td>\n",
       "      <td>-</td>\n",
       "    </tr>\n",
       "    <tr>\n",
       "      <th>211</th>\n",
       "      <td>Montserrat</td>\n",
       "      <td>2,833</td>\n",
       "      <td>5,177</td>\n",
       "      <td>212</td>\n",
       "      <td>54.55% (2013)</td>\n",
       "      <td>115</td>\n",
       "    </tr>\n",
       "    <tr>\n",
       "      <th>212</th>\n",
       "      <td>Wallis and Futuna</td>\n",
       "      <td>1,383</td>\n",
       "      <td>11,773</td>\n",
       "      <td>213</td>\n",
       "      <td>8.95% (2012)</td>\n",
       "      <td>-</td>\n",
       "    </tr>\n",
       "    <tr>\n",
       "      <th>213</th>\n",
       "      <td>Niue</td>\n",
       "      <td>1,034</td>\n",
       "      <td>1,618</td>\n",
       "      <td>214</td>\n",
       "      <td>86.90% (2013)</td>\n",
       "      <td>30</td>\n",
       "    </tr>\n",
       "    <tr>\n",
       "      <th>214</th>\n",
       "      <td>Ascension</td>\n",
       "      <td>361</td>\n",
       "      <td>806</td>\n",
       "      <td>215</td>\n",
       "      <td>41.03% (2012)</td>\n",
       "      <td>-</td>\n",
       "    </tr>\n",
       "  </tbody>\n",
       "</table>\n",
       "<p>215 rows × 6 columns</p>\n",
       "</div>"
      ],
      "text/plain": [
       "       Country or Area Internet Users      Population  Rank     Percentage  \\\n",
       "0                China   76,53,67,947  1,40,95,17,397     1         54.30%   \n",
       "1                India   46,13,47,554  1,33,91,80,127     2         34.45%   \n",
       "2        United States   24,40,90,854    32,44,59,463     3         75.23%   \n",
       "3               Brazil   14,12,06,801    20,92,88,278     4         67.47%   \n",
       "4                Japan   11,58,45,120    12,74,84,450     5         90.87%   \n",
       "..                 ...            ...             ...   ...            ...   \n",
       "210   Falkland Islands          2,881           2,910   211  99.02% (2016)   \n",
       "211         Montserrat          2,833           5,177   212  54.55% (2013)   \n",
       "212  Wallis and Futuna          1,383          11,773   213   8.95% (2012)   \n",
       "213               Niue          1,034           1,618   214  86.90% (2013)   \n",
       "214          Ascension            361             806   215  41.03% (2012)   \n",
       "\n",
       "    Rank.1  \n",
       "0      116  \n",
       "1      145  \n",
       "2       68  \n",
       "3       83  \n",
       "4       23  \n",
       "..     ...  \n",
       "210      -  \n",
       "211    115  \n",
       "212      -  \n",
       "213     30  \n",
       "214      -  \n",
       "\n",
       "[215 rows x 6 columns]"
      ]
     },
     "execution_count": 7,
     "metadata": {},
     "output_type": "execute_result"
    }
   ],
   "source": [
    "stats\n",
    "#full data frame"
   ]
  },
  {
   "cell_type": "code",
   "execution_count": 9,
   "metadata": {},
   "outputs": [
    {
     "data": {
      "text/plain": [
       "215"
      ]
     },
     "execution_count": 9,
     "metadata": {},
     "output_type": "execute_result"
    }
   ],
   "source": [
    "#Number of rows\n",
    "len(stats) #215 rows imported"
   ]
  },
  {
   "cell_type": "code",
   "execution_count": 10,
   "metadata": {},
   "outputs": [
    {
     "data": {
      "text/plain": [
       "Index(['Country or Area', 'Internet Users', 'Population', 'Rank', 'Percentage',\n",
       "       'Rank.1'],\n",
       "      dtype='object')"
      ]
     },
     "execution_count": 10,
     "metadata": {},
     "output_type": "execute_result"
    }
   ],
   "source": [
    "#see columns\n",
    "stats.columns"
   ]
  },
  {
   "cell_type": "code",
   "execution_count": 11,
   "metadata": {},
   "outputs": [],
   "source": [
    "#csv=comma separated values /allows data to be saved in tabular format"
   ]
  },
  {
   "cell_type": "code",
   "execution_count": 12,
   "metadata": {},
   "outputs": [
    {
     "data": {
      "text/plain": [
       "6"
      ]
     },
     "execution_count": 12,
     "metadata": {},
     "output_type": "execute_result"
    }
   ],
   "source": [
    "#number of colums\n",
    "len(stats.columns)"
   ]
  },
  {
   "cell_type": "code",
   "execution_count": 13,
   "metadata": {},
   "outputs": [
    {
     "data": {
      "text/html": [
       "<div>\n",
       "<style scoped>\n",
       "    .dataframe tbody tr th:only-of-type {\n",
       "        vertical-align: middle;\n",
       "    }\n",
       "\n",
       "    .dataframe tbody tr th {\n",
       "        vertical-align: top;\n",
       "    }\n",
       "\n",
       "    .dataframe thead th {\n",
       "        text-align: right;\n",
       "    }\n",
       "</style>\n",
       "<table border=\"1\" class=\"dataframe\">\n",
       "  <thead>\n",
       "    <tr style=\"text-align: right;\">\n",
       "      <th></th>\n",
       "      <th>Country or Area</th>\n",
       "      <th>Internet Users</th>\n",
       "      <th>Population</th>\n",
       "      <th>Rank</th>\n",
       "      <th>Percentage</th>\n",
       "      <th>Rank.1</th>\n",
       "    </tr>\n",
       "  </thead>\n",
       "  <tbody>\n",
       "    <tr>\n",
       "      <th>0</th>\n",
       "      <td>China</td>\n",
       "      <td>76,53,67,947</td>\n",
       "      <td>1,40,95,17,397</td>\n",
       "      <td>1</td>\n",
       "      <td>54.30%</td>\n",
       "      <td>116</td>\n",
       "    </tr>\n",
       "    <tr>\n",
       "      <th>1</th>\n",
       "      <td>India</td>\n",
       "      <td>46,13,47,554</td>\n",
       "      <td>1,33,91,80,127</td>\n",
       "      <td>2</td>\n",
       "      <td>34.45%</td>\n",
       "      <td>145</td>\n",
       "    </tr>\n",
       "    <tr>\n",
       "      <th>2</th>\n",
       "      <td>United States</td>\n",
       "      <td>24,40,90,854</td>\n",
       "      <td>32,44,59,463</td>\n",
       "      <td>3</td>\n",
       "      <td>75.23%</td>\n",
       "      <td>68</td>\n",
       "    </tr>\n",
       "    <tr>\n",
       "      <th>3</th>\n",
       "      <td>Brazil</td>\n",
       "      <td>14,12,06,801</td>\n",
       "      <td>20,92,88,278</td>\n",
       "      <td>4</td>\n",
       "      <td>67.47%</td>\n",
       "      <td>83</td>\n",
       "    </tr>\n",
       "    <tr>\n",
       "      <th>4</th>\n",
       "      <td>Japan</td>\n",
       "      <td>11,58,45,120</td>\n",
       "      <td>12,74,84,450</td>\n",
       "      <td>5</td>\n",
       "      <td>90.87%</td>\n",
       "      <td>23</td>\n",
       "    </tr>\n",
       "  </tbody>\n",
       "</table>\n",
       "</div>"
      ],
      "text/plain": [
       "  Country or Area Internet Users      Population  Rank Percentage Rank.1\n",
       "0           China   76,53,67,947  1,40,95,17,397     1     54.30%    116\n",
       "1           India   46,13,47,554  1,33,91,80,127     2     34.45%    145\n",
       "2   United States   24,40,90,854    32,44,59,463     3     75.23%     68\n",
       "3          Brazil   14,12,06,801    20,92,88,278     4     67.47%     83\n",
       "4           Japan   11,58,45,120    12,74,84,450     5     90.87%     23"
      ]
     },
     "execution_count": 13,
     "metadata": {},
     "output_type": "execute_result"
    }
   ],
   "source": [
    "#top row\n",
    "stats.head() #remember the brackets\n",
    "#if no value in the brackets then top 5\n",
    "#we can add the number of rows"
   ]
  },
  {
   "cell_type": "code",
   "execution_count": 15,
   "metadata": {},
   "outputs": [
    {
     "data": {
      "text/html": [
       "<div>\n",
       "<style scoped>\n",
       "    .dataframe tbody tr th:only-of-type {\n",
       "        vertical-align: middle;\n",
       "    }\n",
       "\n",
       "    .dataframe tbody tr th {\n",
       "        vertical-align: top;\n",
       "    }\n",
       "\n",
       "    .dataframe thead th {\n",
       "        text-align: right;\n",
       "    }\n",
       "</style>\n",
       "<table border=\"1\" class=\"dataframe\">\n",
       "  <thead>\n",
       "    <tr style=\"text-align: right;\">\n",
       "      <th></th>\n",
       "      <th>Country or Area</th>\n",
       "      <th>Internet Users</th>\n",
       "      <th>Population</th>\n",
       "      <th>Rank</th>\n",
       "      <th>Percentage</th>\n",
       "      <th>Rank.1</th>\n",
       "    </tr>\n",
       "  </thead>\n",
       "  <tbody>\n",
       "    <tr>\n",
       "      <th>210</th>\n",
       "      <td>Falkland Islands</td>\n",
       "      <td>2,881</td>\n",
       "      <td>2,910</td>\n",
       "      <td>211</td>\n",
       "      <td>99.02% (2016)</td>\n",
       "      <td>-</td>\n",
       "    </tr>\n",
       "    <tr>\n",
       "      <th>211</th>\n",
       "      <td>Montserrat</td>\n",
       "      <td>2,833</td>\n",
       "      <td>5,177</td>\n",
       "      <td>212</td>\n",
       "      <td>54.55% (2013)</td>\n",
       "      <td>115</td>\n",
       "    </tr>\n",
       "    <tr>\n",
       "      <th>212</th>\n",
       "      <td>Wallis and Futuna</td>\n",
       "      <td>1,383</td>\n",
       "      <td>11,773</td>\n",
       "      <td>213</td>\n",
       "      <td>8.95% (2012)</td>\n",
       "      <td>-</td>\n",
       "    </tr>\n",
       "    <tr>\n",
       "      <th>213</th>\n",
       "      <td>Niue</td>\n",
       "      <td>1,034</td>\n",
       "      <td>1,618</td>\n",
       "      <td>214</td>\n",
       "      <td>86.90% (2013)</td>\n",
       "      <td>30</td>\n",
       "    </tr>\n",
       "    <tr>\n",
       "      <th>214</th>\n",
       "      <td>Ascension</td>\n",
       "      <td>361</td>\n",
       "      <td>806</td>\n",
       "      <td>215</td>\n",
       "      <td>41.03% (2012)</td>\n",
       "      <td>-</td>\n",
       "    </tr>\n",
       "  </tbody>\n",
       "</table>\n",
       "</div>"
      ],
      "text/plain": [
       "       Country or Area Internet Users Population  Rank     Percentage Rank.1\n",
       "210   Falkland Islands          2,881      2,910   211  99.02% (2016)      -\n",
       "211         Montserrat          2,833      5,177   212  54.55% (2013)    115\n",
       "212  Wallis and Futuna          1,383     11,773   213   8.95% (2012)      -\n",
       "213               Niue          1,034      1,618   214  86.90% (2013)     30\n",
       "214          Ascension            361        806   215  41.03% (2012)      -"
      ]
     },
     "execution_count": 15,
     "metadata": {},
     "output_type": "execute_result"
    }
   ],
   "source": [
    "#bottom rows\n",
    "stats.tail()"
   ]
  },
  {
   "cell_type": "code",
   "execution_count": 16,
   "metadata": {},
   "outputs": [
    {
     "name": "stdout",
     "output_type": "stream",
     "text": [
      "<class 'pandas.core.frame.DataFrame'>\n",
      "RangeIndex: 215 entries, 0 to 214\n",
      "Data columns (total 6 columns):\n",
      " #   Column           Non-Null Count  Dtype \n",
      "---  ------           --------------  ----- \n",
      " 0   Country or Area  215 non-null    object\n",
      " 1   Internet Users   215 non-null    object\n",
      " 2   Population       215 non-null    object\n",
      " 3   Rank             215 non-null    int64 \n",
      " 4   Percentage       215 non-null    object\n",
      " 5   Rank.1           215 non-null    object\n",
      "dtypes: int64(1), object(5)\n",
      "memory usage: 10.2+ KB\n"
     ]
    }
   ],
   "source": [
    "#information on the columns\n",
    "stats.info() "
   ]
  },
  {
   "cell_type": "code",
   "execution_count": null,
   "metadata": {},
   "outputs": [],
   "source": [
    "#git push "
   ]
  }
 ],
 "metadata": {
  "kernelspec": {
   "display_name": "Python 3",
   "language": "python",
   "name": "python3"
  },
  "language_info": {
   "codemirror_mode": {
    "name": "ipython",
    "version": 3
   },
   "file_extension": ".py",
   "mimetype": "text/x-python",
   "name": "python",
   "nbconvert_exporter": "python",
   "pygments_lexer": "ipython3",
   "version": "3.8.5"
  }
 },
 "nbformat": 4,
 "nbformat_minor": 4
}
